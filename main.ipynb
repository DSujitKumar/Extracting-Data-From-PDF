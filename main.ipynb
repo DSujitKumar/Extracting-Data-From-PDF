{
 "cells": [
  {
   "cell_type": "code",
   "execution_count": 1,
   "metadata": {},
   "outputs": [],
   "source": [
    "import nltk\n",
    "from nltk.tokenize import word_tokenize\n",
    "from nltk.corpus import stopwords\n",
    "import pytesseract\n",
    "from PIL import Image, ImageEnhance, ImageFilter\n",
    "\n"
   ]
  },
  {
   "cell_type": "code",
   "execution_count": 16,
   "metadata": {},
   "outputs": [],
   "source": [
    "from wand.image import Image\n",
    "\n",
    "with(Image(filename=\"sample12.pdf\", resolution=120)) as source: \n",
    "    images = source.sequence\n",
    "    pages = len(images)\n",
    "    for i in range(pages):\n",
    "        n = i + 1\n",
    "        newfilename =str(n) + '.jpeg'\n",
    "        Image(images[i]).save(filename=newfilename)"
   ]
  },
  {
   "cell_type": "code",
   "execution_count": 18,
   "metadata": {},
   "outputs": [
    {
     "name": "stdout",
     "output_type": "stream",
     "text": [
      "Usually called medical examiner report .\n",
      "Medical Factors that influence underwriting: :\n",
      "\n",
      "| Family History\n",
      "\n",
      "|\n",
      "|\n",
      "\n",
      "#Certain disease are heredity\n",
      "\n",
      "#Average longevity of family . Eg if parents died due to\n",
      "heart problem etc , means offspring might not live long\n",
      "# Family living environment . Some times living\n",
      "conditions cause risk of infection etc\n",
      "\n",
      " \n",
      "\n",
      " \n",
      "\n",
      "Personal History\n",
      "\n",
      " \n",
      "\n",
      "Refers to past impairments of various systems of human\n",
      "body which‘ life assured has suffred from e.g\n",
      "Cardiovascular , cancer , TB, Nervous system etc\n",
      "\n",
      "Scanned by CamScanner\n"
     ]
    }
   ],
   "source": [
    "from PIL import Image, ImageEnhance, ImageFilter\n",
    "text = pytesseract.image_to_string(Image.open('1.jpeg'))\n",
    "print(text)"
   ]
  },
  {
   "cell_type": "code",
   "execution_count": 3,
   "metadata": {},
   "outputs": [],
   "source": [
    "words=[]\n",
    "tokens = word_tokenize(text)\n",
    "for sent in tokens:\n",
    "    words=words+nltk.pos_tag(word_tokenize(sent))\n",
    "#print(words)"
   ]
  },
  {
   "cell_type": "code",
   "execution_count": 4,
   "metadata": {},
   "outputs": [
    {
     "name": "stdout",
     "output_type": "stream",
     "text": [
      "Name =  SUJIT KUMAR DAS \n",
      "Father =  MADHUSUDAN DAS \n",
      "Mother =  \n"
     ]
    }
   ],
   "source": [
    "p=[\"Father's\",\"Mother's\",\"'s\",\"s\",\"Father\",\"Mother\",\"father\",\"mother\",\"s\"]\n",
    "name=\"\"\n",
    "father=\"\"\n",
    "mother=\"\"\n",
    "for i in range(len(words)):\n",
    "    \n",
    "    if (\"N\" == words[i][0] and words[i+1][0]==\"Name\" and words[i+2][0]==\":\" and words[i-1][0] not in p):\n",
    "        for j in range(3,6):\n",
    "            if (words[i+j][1]=='NN' or words[i+j][1]=='NNP'):\n",
    "                if(words[i+j][0] not in p):\n",
    "                    name=name+words[i+j][0]+\" \"\n",
    "    \n",
    "    if (words[i][0]==\"Name\" and words[i+1][0]==\":\" and words[i-1][0] not in p):\n",
    "        for j in range(2,5):\n",
    "            if (words[i+j][1]=='NN' or words[i+j][1]=='NNP'):\n",
    "                if(words[i+j][0] not in p):\n",
    "                    name=name+words[i+j][0]+\" \"\n",
    "    \n",
    "    if (\"Father\" == words[i][0] and words[i+1][0]==\"'s\" and words[i+2][0]==\"Name\" and words[i+3][0]==\":\" and words[i-1][0] not in p):\n",
    "        for j in range(4,7):\n",
    "            if (words[i+j][1]=='NN' or words[i+j][1]=='NNP'):\n",
    "                if(words[i+j][0] not in p):\n",
    "                    father=father+words[i+j][0]+\" \"\n",
    "    if (\"Mother\" == words[i][0] and words[i+1][0]==\"s\" and words[i+2][0]==\"Name\" and words[i+3][0]==\":\" and words[i-1][0] not in p):\n",
    "        for j in range(4,7):\n",
    "            if (words[i+j][1]=='NN' or words[i+j][1]=='NNP'):\n",
    "                if(words[i+j][0] not in p):\n",
    "                    mother=mother+words[i+j][0]+\" \"\n",
    "\n",
    "print(\"Name = \",name)\n",
    "print(\"Father = \",father)\n",
    "print(\"Mother = \",mother)"
   ]
  },
  {
   "cell_type": "code",
   "execution_count": null,
   "metadata": {},
   "outputs": [],
   "source": []
  },
  {
   "cell_type": "code",
   "execution_count": null,
   "metadata": {},
   "outputs": [],
   "source": []
  },
  {
   "cell_type": "code",
   "execution_count": null,
   "metadata": {},
   "outputs": [],
   "source": []
  }
 ],
 "metadata": {
  "kernelspec": {
   "display_name": "Python 3",
   "language": "python",
   "name": "python3"
  },
  "language_info": {
   "codemirror_mode": {
    "name": "ipython",
    "version": 3
   },
   "file_extension": ".py",
   "mimetype": "text/x-python",
   "name": "python",
   "nbconvert_exporter": "python",
   "pygments_lexer": "ipython3",
   "version": "3.7.3"
  }
 },
 "nbformat": 4,
 "nbformat_minor": 2
}
