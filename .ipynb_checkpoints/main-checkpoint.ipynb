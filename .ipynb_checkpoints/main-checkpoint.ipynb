{
 "cells": [
  {
   "cell_type": "code",
   "execution_count": 6,
   "metadata": {},
   "outputs": [
    {
     "name": "stdout",
     "output_type": "stream",
     "text": [
      "showing info https://raw.githubusercontent.com/nltk/nltk_data/gh-pages/index.xml\n"
     ]
    }
   ],
   "source": [
    "import nltk\n",
    "nltk.download()#Download all the libraries which is included in nltk\n",
    "from nltk.tokenize import word_tokenize"
   ]
  },
  {
   "cell_type": "code",
   "execution_count": 7,
   "metadata": {},
   "outputs": [],
   "source": [
    "# pytessract module is used for extracting the text from an image \n",
    "import pytesseract"
   ]
  },
  {
   "cell_type": "code",
   "execution_count": 12,
   "metadata": {},
   "outputs": [],
   "source": [
    "#wanda is use to convert pdf into image file.\n",
    "from wand.image import Image\n",
    "\n",
    "with(Image(filename=\"sample.pdf\", resolution=120)) as source: \n",
    "    images = source.sequence\n",
    "    pages = len(images)\n",
    "    for i in range(pages):\n",
    "        n = i + 1\n",
    "        newfilename =str(n) + '.jpeg'\n",
    "        Image(images[i]).save(filename=newfilename)"
   ]
  },
  {
   "cell_type": "code",
   "execution_count": 13,
   "metadata": {},
   "outputs": [
    {
     "name": "stdout",
     "output_type": "stream",
     "text": [
      "This is a sample pdf for extracting the data.\n",
      "You can use your own pdf file instead of this.\n",
      "Template for the Program\n",
      "Name : Sujit Kumar Das Father's Name : Madhusudan Das\n",
      "\n",
      "Mother's Name : Gitanjali Das\n"
     ]
    }
   ],
   "source": [
    "from PIL import Image, ImageEnhance, ImageFilter\n",
    "text = pytesseract.image_to_string(Image.open(newfilename))\n",
    "print(text)"
   ]
  },
  {
   "cell_type": "code",
   "execution_count": 18,
   "metadata": {},
   "outputs": [
    {
     "name": "stdout",
     "output_type": "stream",
     "text": [
      "[('This', 'DT'), ('is', 'VBZ'), ('a', 'DT'), ('sample', 'NN'), ('pdf', 'NN'), ('for', 'IN'), ('extracting', 'VBG'), ('the', 'DT'), ('data', 'NNS'), ('.', '.'), ('You', 'PRP'), ('can', 'MD'), ('use', 'NN'), ('your', 'PRP$'), ('own', 'JJ'), ('pdf', 'NN'), ('file', 'NN'), ('instead', 'RB'), ('of', 'IN'), ('this', 'DT'), ('.', '.'), ('Template', 'NN'), ('for', 'IN'), ('the', 'DT'), ('Program', 'NN'), ('Name', 'NN'), (':', ':'), ('Sujit', 'NN'), ('Kumar', 'NNP'), ('Das', 'NN'), ('Father', 'NN'), (\"'s\", 'POS'), ('Name', 'NN'), (':', ':'), ('Madhusudan', 'NN'), ('Das', 'NN'), ('Mother', 'NN'), (\"'s\", 'POS'), ('Name', 'NN'), (':', ':'), ('Gitanjali', 'NN'), ('Das', 'NN')]\n"
     ]
    }
   ],
   "source": [
    "#Converting all the text into tokens by perticular words.\n",
    "#It stores all the tokens into a single list.\n",
    "\n",
    "words=[]\n",
    "tokens = word_tokenize(text)\n",
    "for sent in tokens:\n",
    "    words=words+nltk.pos_tag(word_tokenize(sent))\n",
    "print(words)"
   ]
  },
  {
   "cell_type": "code",
   "execution_count": 20,
   "metadata": {},
   "outputs": [
    {
     "name": "stdout",
     "output_type": "stream",
     "text": [
      "Name =  Sujit Kumar Das \n",
      "Father =  Madhusudan Das \n",
      "Mother =  Gitanjali Das \n"
     ]
    }
   ],
   "source": [
    "#This program is only wrote for extracting the name, father's name and Mother's name, You can modify the code\n",
    "# for extracting your perticular data.\n",
    "p=[\"Father's\",\"Mother's\",\"'s\",\"s\",\"Father\",\"Mother\",\"father\",\"mother\",\"s\"]\n",
    "name=\"\"\n",
    "father=\"\"\n",
    "mother=\"\"\n",
    "for i in range(len(words)):\n",
    "    \n",
    "    if (\"N\" == words[i][0] and words[i+1][0]==\"Name\" and words[i+2][0]==\":\" and words[i-1][0] not in p):\n",
    "        for j in range(3,6):\n",
    "            if (words[i+j][1]=='NN' or words[i+j][1]=='NNP'):\n",
    "                if(words[i+j][0] not in p):\n",
    "                    name=name+words[i+j][0]+\" \"\n",
    "    \n",
    "    if (words[i][0]==\"Name\" and words[i+1][0]==\":\" and words[i-1][0] not in p):\n",
    "        for j in range(2,5):\n",
    "            if (words[i+j][1]=='NN' or words[i+j][1]=='NNP'):\n",
    "                if(words[i+j][0] not in p):\n",
    "                    name=name+words[i+j][0]+\" \"\n",
    "    \n",
    "    if (\"Father\" == words[i][0] and words[i+1][0]==\"'s\" and words[i+2][0]==\"Name\" and words[i+3][0]==\":\" and words[i-1][0] not in p):\n",
    "        for j in range(4,7):\n",
    "            if (words[i+j][1]=='NN' or words[i+j][1]=='NNP'):\n",
    "                if(words[i+j][0] not in p):\n",
    "                    father=father+words[i+j][0]+\" \"\n",
    "    if (\"Mother\" == words[i][0] and words[i+1][0]==\"'s\" and words[i+2][0]==\"Name\" and words[i+3][0]==\":\" and words[i-1][0] not in p):\n",
    "        for j in range(4,6):\n",
    "            if (words[i+j][1]=='NN' or words[i+j][1]=='NNP'):\n",
    "                if(words[i+j][0] not in p):\n",
    "                    mother=mother+words[i+j][0]+\" \"\n",
    "\n",
    "print(\"Name = \",name)\n",
    "print(\"Father = \",father)\n",
    "print(\"Mother = \",mother)"
   ]
  },
  {
   "cell_type": "code",
   "execution_count": null,
   "metadata": {},
   "outputs": [],
   "source": []
  },
  {
   "cell_type": "code",
   "execution_count": null,
   "metadata": {},
   "outputs": [],
   "source": []
  },
  {
   "cell_type": "code",
   "execution_count": null,
   "metadata": {},
   "outputs": [],
   "source": []
  }
 ],
 "metadata": {
  "kernelspec": {
   "display_name": "Python 3",
   "language": "python",
   "name": "python3"
  },
  "language_info": {
   "codemirror_mode": {
    "name": "ipython",
    "version": 3
   },
   "file_extension": ".py",
   "mimetype": "text/x-python",
   "name": "python",
   "nbconvert_exporter": "python",
   "pygments_lexer": "ipython3",
   "version": "3.7.3"
  }
 },
 "nbformat": 4,
 "nbformat_minor": 2
}
